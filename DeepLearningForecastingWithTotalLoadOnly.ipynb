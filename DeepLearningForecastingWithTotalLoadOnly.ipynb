{
 "cells": [
  {
   "cell_type": "code",
   "execution_count": 36,
   "metadata": {},
   "outputs": [],
   "source": [
    "import pandas as pd\n",
    "import numpy as np\n",
    "import matplotlib.pyplot as plt\n",
    "import datetime as dt\n",
    "from tqdm import tqdm\n",
    "\n",
    "import torch\n",
    "import torch.nn as nn\n",
    "import torch.optim as optim\n",
    "import torch.nn.functional as F\n",
    "import torch.utils.data as data\n",
    "from torch.utils.data import Dataset, DataLoader\n",
    "\n",
    "from sklearn.metrics import mean_squared_error, mean_absolute_percentage_error\n",
    "from sklearn.preprocessing import MinMaxScaler, StandardScaler\n",
    "\n",
    "from dataloader import TRAILDataset\n"
   ]
  },
  {
   "cell_type": "code",
   "execution_count": 37,
   "metadata": {},
   "outputs": [
    {
     "name": "stdout",
     "output_type": "stream",
     "text": [
      "Using device: cuda\n"
     ]
    }
   ],
   "source": [
    "device = torch.device('cuda' if torch.cuda.is_available() else 'cpu')\n",
    "print(f'Using device: {device}')"
   ]
  },
  {
   "cell_type": "markdown",
   "metadata": {},
   "source": [
    "Functions"
   ]
  },
  {
   "cell_type": "code",
   "execution_count": 38,
   "metadata": {},
   "outputs": [],
   "source": [
    "def create_sequences(data, input_length=14, output_length=4):\n",
    "    X, y = [], []\n",
    "    for i in tqdm(range(len(data) - input_length - output_length + 1), desc=\"Generating sequences\"):\n",
    "        X.append(data[i:i+input_length])\n",
    "        y.append(data[i+input_length:i+input_length+output_length])\n",
    "    return np.array(X), np.array(y)\n"
   ]
  },
  {
   "cell_type": "code",
   "execution_count": 39,
   "metadata": {},
   "outputs": [],
   "source": [
    "def rmse(y_true, y_pred):\n",
    "    return torch.sqrt(torch.mean((y_true - y_pred) ** 2))\n",
    "\n",
    "def nmse(y_true, y_pred):\n",
    "    return torch.mean((y_true - y_pred) ** 2) / torch.mean(y_true ** 2)\n",
    "\n",
    "def mape(y_true, y_pred):\n",
    "    return torch.mean(torch.abs((y_true - y_pred) / y_true)) * 100"
   ]
  },
  {
   "cell_type": "code",
   "execution_count": 40,
   "metadata": {},
   "outputs": [],
   "source": [
    "def validate_model(model, criterion, val_loader):\n",
    "    model.eval()\n",
    "    val_loss = 0.0\n",
    "    with torch.no_grad():\n",
    "        for X_batch, y_batch in tqdm(val_loader, desc='Validation'):\n",
    "            X_batch, y_batch = X_batch.to(device), y_batch.to(device)\n",
    "            outputs = model(X_batch)\n",
    "            loss = criterion(outputs, y_batch)\n",
    "            val_loss += loss.item()\n",
    "    return val_loss / len(val_loader)"
   ]
  },
  {
   "cell_type": "code",
   "execution_count": 41,
   "metadata": {},
   "outputs": [],
   "source": [
    "def train_model(model, criterion, optimizer, train_loader, val_loader, epochs=20):\n",
    "    train_losses = []\n",
    "    val_losses = []\n",
    "\n",
    "    for epoch in range(epochs):\n",
    "        model.train()\n",
    "        train_loss = 0.0\n",
    "\n",
    "        for X_batch, y_batch in tqdm(train_loader, desc='Training'):\n",
    "            X_batch, y_batch = X_batch.to(device), y_batch.to(device)\n",
    "            \n",
    "            optimizer.zero_grad()\n",
    "            outputs = model(X_batch)\n",
    "            \n",
    "            loss = criterion(outputs, y_batch)\n",
    "            loss.backward()\n",
    "            optimizer.step()\n",
    "            \n",
    "            train_loss += loss.item()\n",
    "        \n",
    "        train_loss /= len(train_loader)\n",
    "        val_loss = validate_model(model, criterion, val_loader)\n",
    "\n",
    "        train_losses.append(train_loss)\n",
    "        val_losses.append(val_loss)\n",
    "\n",
    "        print(f'Epoch {epoch+1}/{epochs}, Training Loss: {train_loss:.4f}, Validation Loss: {val_loss:.4f}')\n",
    "\n",
    "    return train_losses, val_losses\n"
   ]
  },
  {
   "cell_type": "code",
   "execution_count": 42,
   "metadata": {},
   "outputs": [],
   "source": [
    "def test_model(model, test_loader, predict_scaler):\n",
    "    model.eval()\n",
    "    y_true, y_pred = [], []\n",
    "    with torch.no_grad():\n",
    "        for X_batch, y_batch in test_loader:\n",
    "            X_batch, y_batch = X_batch.to(device), y_batch.to(device)\n",
    "            outputs = model(X_batch)\n",
    "\n",
    "            # apply reverse scaling\n",
    "            y_batch_ = predict_scaler.inverse_transform(y_batch.cpu().numpy())\n",
    "            outputs_ = predict_scaler.inverse_transform(outputs.cpu().numpy())\n",
    "        \n",
    "            y_true.append(y_batch_)\n",
    "            y_pred.append(outputs_)\n",
    "    \n",
    "    \n",
    "    y_true = np.vstack(y_true)\n",
    "    y_pred = np.vstack(y_pred)\n",
    "            \n",
    "    \n",
    "    \n",
    "    mse_per_output = []\n",
    "    rmse_per_output = []\n",
    "    nmse_per_output = []\n",
    "    mape_per_output = []\n",
    "    \n",
    "    for i in range(y_true.shape[1]):\n",
    "        mse_value = mean_squared_error(y_true[:, i], y_pred[:, i])\n",
    "        rmse_value = np.sqrt(mse_value)\n",
    "        nmse_value = np.mean((y_true[:, i] - y_pred[:, i]) ** 2) / np.mean(y_true[:, i] ** 2)\n",
    "        mape_value = mean_absolute_percentage_error(y_true[:, i], y_pred[:, i])\n",
    "\n",
    "        mse_per_output.append(mse_value)\n",
    "        rmse_per_output.append(rmse_value)\n",
    "        nmse_per_output.append(nmse_value)\n",
    "        mape_per_output.append(mape_value)\n",
    "\n",
    "        #print(f\"Output {i+1}: MSE: {mse_value:.4f}, RMSE: {rmse_value:.4f}, NMSE: {nmse_value:.4f}, MAPE: {mape_value:.4f}%\")\n",
    "        print(f\"Output {i+1}: MSE: {mse_value:.4f}, RMSE: {rmse_value:.4f}\")\n",
    "    \n",
    "    return mse_per_output, rmse_per_output, nmse_per_output, mape_per_output"
   ]
  },
  {
   "cell_type": "code",
   "execution_count": 43,
   "metadata": {},
   "outputs": [],
   "source": [
    "def get_predictions(model, test_loader):\n",
    "    model.eval()\n",
    "    y_true, y_pred = [], []\n",
    "    with torch.no_grad():\n",
    "        for X_batch, y_batch in test_loader:\n",
    "            X_batch, y_batch = X_batch.to(device), y_batch.to(device)\n",
    "            \n",
    "            outputs = model(X_batch)\n",
    "            \n",
    "            y_true.append(y_batch.cpu().numpy())\n",
    "            y_pred.append(outputs.cpu().numpy())\n",
    "    \n",
    "    y_true = np.vstack(y_true)\n",
    "    y_pred = np.vstack(y_pred)\n",
    "    \n",
    "    return y_true, y_pred"
   ]
  },
  {
   "cell_type": "code",
   "execution_count": 44,
   "metadata": {},
   "outputs": [],
   "source": [
    "def plot_true_vs_predicted(y_true, y_pred, time=None):\n",
    "    if time is None:\n",
    "        time = np.arange(len(y_true))\n",
    "    \n",
    "    plt.figure(figsize=(12, 6))\n",
    "    plt.plot(time, y_true, color='blue', label='True Values', linestyle='-', marker='o')\n",
    "    plt.plot(time, y_pred, color='red', label='Predicted Values', linestyle='--', marker='x')\n",
    "    \n",
    "    plt.xlabel('Time')\n",
    "    plt.ylabel('Value')\n",
    "    plt.title('True Values vs Predicted Values')\n",
    "    plt.legend()\n",
    "    plt.show()\n"
   ]
  },
  {
   "cell_type": "code",
   "execution_count": 45,
   "metadata": {},
   "outputs": [],
   "source": [
    "def plot_losses(train_losses, val_losses):\n",
    "    plt.figure(figsize=(10, 6))\n",
    "    plt.plot(train_losses, label='Training Loss')\n",
    "    plt.plot(val_losses, label='Validation Loss')\n",
    "    plt.xlabel('Epochs')\n",
    "    plt.ylabel('Loss')\n",
    "    plt.title('Training and Validation Loss')\n",
    "    plt.legend()\n",
    "    plt.grid(True)\n",
    "    plt.show()\n"
   ]
  },
  {
   "cell_type": "markdown",
   "metadata": {},
   "source": [
    "MLP"
   ]
  },
  {
   "cell_type": "code",
   "execution_count": 46,
   "metadata": {},
   "outputs": [],
   "source": [
    "class MLPRegressor(nn.Module):\n",
    "    def __init__(self, input_size, output_size):\n",
    "        super(MLPRegressor, self).__init__()\n",
    "        self.fc1 = nn.Linear(input_size, 64)\n",
    "        self.fc2 = nn.Linear(64, 128)\n",
    "        self.fc3 = nn.Linear(128, 64)\n",
    "        self.fc4 = nn.Linear(64, output_size)\n",
    "        self.relu = nn.ReLU()\n",
    "\n",
    "    def forward(self, x):\n",
    "        x = self.relu(self.fc1(x))\n",
    "        x = self.relu(self.fc2(x))\n",
    "        x = self.relu(self.fc3(x))\n",
    "        x = self.fc4(x)\n",
    "        return x"
   ]
  },
  {
   "cell_type": "code",
   "execution_count": 47,
   "metadata": {},
   "outputs": [],
   "source": [
    "LAG = 14\n",
    "HORIZON = 4\n",
    "LEARNING_RATE = 0.003\n",
    "EPOCHS = 50\n",
    "BATCH_SIZE = 128"
   ]
  },
  {
   "cell_type": "markdown",
   "metadata": {},
   "source": [
    "Loading the data and splitting it into training, validation, and test sets"
   ]
  },
  {
   "cell_type": "code",
   "execution_count": 48,
   "metadata": {},
   "outputs": [],
   "source": [
    "csv_file = \"Processed_data.csv\"\n",
    "df = pd.read_csv(csv_file, sep=\",\") \n",
    "df['Datetime'] = pd.to_datetime(df['Datetime'])\n",
    "df = df.set_index('Datetime')"
   ]
  },
  {
   "cell_type": "code",
   "execution_count": 49,
   "metadata": {},
   "outputs": [],
   "source": [
    "df_train = df[df[\"Year\"] < 2023]\n",
    "df_val = df[df[\"Year\"] == 2023]\n",
    "df_test = df[df[\"Year\"] == 2024]"
   ]
  },
  {
   "cell_type": "code",
   "execution_count": 50,
   "metadata": {},
   "outputs": [],
   "source": [
    "columns_input = [\"Total Load\"]  \n",
    "column_to_predict = \"Total Load\"\n",
    "column_to_normalize = [\"Total Load\"]"
   ]
  },
  {
   "cell_type": "code",
   "execution_count": 51,
   "metadata": {},
   "outputs": [
    {
     "name": "stdout",
     "output_type": "stream",
     "text": [
      "train dataset loaded\n",
      "['Total Load']\n",
      "validation dataset loaded\n",
      "test dataset loaded\n"
     ]
    },
    {
     "name": "stderr",
     "output_type": "stream",
     "text": [
      "c:\\Users\\tojov\\Desktop\\Workshop_2024\\project9\\dataloader.py:53: SettingWithCopyWarning: \n",
      "A value is trying to be set on a copy of a slice from a DataFrame.\n",
      "Try using .loc[row_indexer,col_indexer] = value instead\n",
      "\n",
      "See the caveats in the documentation: https://pandas.pydata.org/pandas-docs/stable/user_guide/indexing.html#returning-a-view-versus-a-copy\n",
      "  self.data[self.column_to_predict] = scaled_row\n",
      "c:\\Users\\tojov\\Desktop\\Workshop_2024\\project9\\dataloader.py:53: SettingWithCopyWarning: \n",
      "A value is trying to be set on a copy of a slice from a DataFrame.\n",
      "Try using .loc[row_indexer,col_indexer] = value instead\n",
      "\n",
      "See the caveats in the documentation: https://pandas.pydata.org/pandas-docs/stable/user_guide/indexing.html#returning-a-view-versus-a-copy\n",
      "  self.data[self.column_to_predict] = scaled_row\n",
      "c:\\Users\\tojov\\Desktop\\Workshop_2024\\project9\\dataloader.py:53: SettingWithCopyWarning: \n",
      "A value is trying to be set on a copy of a slice from a DataFrame.\n",
      "Try using .loc[row_indexer,col_indexer] = value instead\n",
      "\n",
      "See the caveats in the documentation: https://pandas.pydata.org/pandas-docs/stable/user_guide/indexing.html#returning-a-view-versus-a-copy\n",
      "  self.data[self.column_to_predict] = scaled_row\n"
     ]
    }
   ],
   "source": [
    "#train_datasetset = TRAILDataset(df_train, len(df_train), columns_input, column_to_predict, column_to_normalize, scaler=StandardScaler(), predict_scaler=StandardScaler())\n",
    "train_dataset = TRAILDataset(df_train, len(df_train), columns_input, column_to_predict, column_to_normalize)\n",
    "\n",
    "scaler = train_dataset.get_scaler()\n",
    "predict_scaler = train_dataset.get_predict_scaler()\n",
    "\n",
    "train_dataset.save_scaler()\n",
    "\n",
    "predict_scaler = train_dataset.get_predict_scaler()\n",
    "print(\"train dataset loaded\")\n",
    "print(column_to_normalize)\n",
    "\n",
    "val_dataset = TRAILDataset(df_val, len(df_val), columns_input, column_to_predict, column_to_normalize, scaler=scaler, predict_scaler=predict_scaler)\n",
    "print(\"validation dataset loaded\")\n",
    "\n",
    "test_dataset = TRAILDataset(df_test, len(df_test), columns_input, column_to_predict, column_to_normalize, scaler=scaler, predict_scaler=predict_scaler)\n",
    "print(\"test dataset loaded\")\n"
   ]
  },
  {
   "cell_type": "markdown",
   "metadata": {},
   "source": [
    "Sequence generation"
   ]
  },
  {
   "cell_type": "code",
   "execution_count": 52,
   "metadata": {},
   "outputs": [
    {
     "name": "stderr",
     "output_type": "stream",
     "text": [
      "Generating sequences: 100%|██████████| 280499/280499 [00:30<00:00, 9267.50it/s] \n",
      "Generating sequences: 100%|██████████| 35023/35023 [00:03<00:00, 11144.49it/s]\n",
      "Generating sequences: 100%|██████████| 22554/22554 [00:02<00:00, 10688.21it/s]\n"
     ]
    }
   ],
   "source": [
    "X_train, y_train = create_sequences(train_dataset.data['Total Load'], input_length=LAG, output_length=HORIZON)\n",
    "X_val, y_val = create_sequences(val_dataset.data['Total Load'], input_length=LAG, output_length=HORIZON)\n",
    "X_test, y_test = create_sequences(test_dataset.data['Total Load'], input_length=LAG, output_length=HORIZON)"
   ]
  },
  {
   "cell_type": "code",
   "execution_count": 53,
   "metadata": {},
   "outputs": [],
   "source": [
    "train_dataset = data.TensorDataset(torch.tensor(X_train, dtype=torch.float32).view(-1, 14), \n",
    "                                   torch.tensor(y_train, dtype=torch.float32).view(-1, 4))\n",
    "\n",
    "val_dataset = data.TensorDataset(torch.tensor(X_val, dtype=torch.float32).view(-1, 14), \n",
    "                                 torch.tensor(y_val, dtype=torch.float32).view(-1, 4))\n",
    "\n",
    "test_dataset = data.TensorDataset(torch.tensor(X_test, dtype=torch.float32).view(-1, 14), \n",
    "                                  torch.tensor(y_test, dtype=torch.float32).view(-1, 4))"
   ]
  },
  {
   "cell_type": "code",
   "execution_count": 54,
   "metadata": {},
   "outputs": [],
   "source": [
    "train_loader = data.DataLoader(train_dataset, batch_size=BATCH_SIZE, shuffle=False)\n",
    "val_loader = data.DataLoader(val_dataset, batch_size=BATCH_SIZE, shuffle=False)\n",
    "test_loader = data.DataLoader(test_dataset, batch_size=BATCH_SIZE, shuffle=False)"
   ]
  },
  {
   "cell_type": "markdown",
   "metadata": {},
   "source": [
    "Model creation and training"
   ]
  },
  {
   "cell_type": "code",
   "execution_count": 55,
   "metadata": {},
   "outputs": [],
   "source": [
    "# MLP\n",
    "model =  MLPRegressor(input_size=LAG, output_size=HORIZON)"
   ]
  },
  {
   "cell_type": "code",
   "execution_count": 56,
   "metadata": {},
   "outputs": [],
   "source": [
    "model.to(device)\n",
    "criterion = nn.MSELoss()\n",
    "optimizer = optim.Adam(model.parameters(), lr=LEARNING_RATE)"
   ]
  },
  {
   "cell_type": "code",
   "execution_count": 57,
   "metadata": {},
   "outputs": [
    {
     "name": "stderr",
     "output_type": "stream",
     "text": [
      "Training: 100%|██████████| 2192/2192 [00:05<00:00, 409.34it/s]\n",
      "Validation: 100%|██████████| 274/274 [00:00<00:00, 883.68it/s]\n"
     ]
    },
    {
     "name": "stdout",
     "output_type": "stream",
     "text": [
      "Epoch 1/50, Training Loss: 0.0024, Validation Loss: 0.0012\n"
     ]
    },
    {
     "name": "stderr",
     "output_type": "stream",
     "text": [
      "Training: 100%|██████████| 2192/2192 [00:04<00:00, 440.08it/s]\n",
      "Validation: 100%|██████████| 274/274 [00:00<00:00, 884.99it/s]\n"
     ]
    },
    {
     "name": "stdout",
     "output_type": "stream",
     "text": [
      "Epoch 2/50, Training Loss: 0.0010, Validation Loss: 0.0015\n"
     ]
    },
    {
     "name": "stderr",
     "output_type": "stream",
     "text": [
      "Training: 100%|██████████| 2192/2192 [00:05<00:00, 380.53it/s]\n",
      "Validation: 100%|██████████| 274/274 [00:00<00:00, 729.69it/s]\n"
     ]
    },
    {
     "name": "stdout",
     "output_type": "stream",
     "text": [
      "Epoch 3/50, Training Loss: 0.0009, Validation Loss: 0.0014\n"
     ]
    },
    {
     "name": "stderr",
     "output_type": "stream",
     "text": [
      "Training: 100%|██████████| 2192/2192 [00:06<00:00, 360.37it/s]\n",
      "Validation: 100%|██████████| 274/274 [00:00<00:00, 685.70it/s]\n"
     ]
    },
    {
     "name": "stdout",
     "output_type": "stream",
     "text": [
      "Epoch 4/50, Training Loss: 0.0008, Validation Loss: 0.0017\n"
     ]
    },
    {
     "name": "stderr",
     "output_type": "stream",
     "text": [
      "Training: 100%|██████████| 2192/2192 [00:06<00:00, 345.65it/s]\n",
      "Validation: 100%|██████████| 274/274 [00:00<00:00, 737.05it/s]\n"
     ]
    },
    {
     "name": "stdout",
     "output_type": "stream",
     "text": [
      "Epoch 5/50, Training Loss: 0.0008, Validation Loss: 0.0014\n"
     ]
    },
    {
     "name": "stderr",
     "output_type": "stream",
     "text": [
      "Training: 100%|██████████| 2192/2192 [00:06<00:00, 340.84it/s]\n",
      "Validation: 100%|██████████| 274/274 [00:00<00:00, 642.52it/s]\n"
     ]
    },
    {
     "name": "stdout",
     "output_type": "stream",
     "text": [
      "Epoch 6/50, Training Loss: 0.0008, Validation Loss: 0.0016\n"
     ]
    },
    {
     "name": "stderr",
     "output_type": "stream",
     "text": [
      "Training: 100%|██████████| 2192/2192 [00:06<00:00, 340.31it/s]\n",
      "Validation: 100%|██████████| 274/274 [00:00<00:00, 769.15it/s]\n"
     ]
    },
    {
     "name": "stdout",
     "output_type": "stream",
     "text": [
      "Epoch 7/50, Training Loss: 0.0007, Validation Loss: 0.0018\n"
     ]
    },
    {
     "name": "stderr",
     "output_type": "stream",
     "text": [
      "Training: 100%|██████████| 2192/2192 [00:06<00:00, 355.64it/s]\n",
      "Validation: 100%|██████████| 274/274 [00:00<00:00, 578.91it/s]\n"
     ]
    },
    {
     "name": "stdout",
     "output_type": "stream",
     "text": [
      "Epoch 8/50, Training Loss: 0.0007, Validation Loss: 0.0012\n"
     ]
    },
    {
     "name": "stderr",
     "output_type": "stream",
     "text": [
      "Training: 100%|██████████| 2192/2192 [00:06<00:00, 350.92it/s]\n",
      "Validation: 100%|██████████| 274/274 [00:00<00:00, 761.45it/s]\n"
     ]
    },
    {
     "name": "stdout",
     "output_type": "stream",
     "text": [
      "Epoch 9/50, Training Loss: 0.0007, Validation Loss: 0.0012\n"
     ]
    },
    {
     "name": "stderr",
     "output_type": "stream",
     "text": [
      "Training: 100%|██████████| 2192/2192 [00:06<00:00, 337.87it/s]\n",
      "Validation: 100%|██████████| 274/274 [00:00<00:00, 687.51it/s]\n"
     ]
    },
    {
     "name": "stdout",
     "output_type": "stream",
     "text": [
      "Epoch 10/50, Training Loss: 0.0007, Validation Loss: 0.0012\n"
     ]
    },
    {
     "name": "stderr",
     "output_type": "stream",
     "text": [
      "Training: 100%|██████████| 2192/2192 [00:05<00:00, 435.23it/s]\n",
      "Validation: 100%|██████████| 274/274 [00:00<00:00, 913.38it/s]\n"
     ]
    },
    {
     "name": "stdout",
     "output_type": "stream",
     "text": [
      "Epoch 11/50, Training Loss: 0.0007, Validation Loss: 0.0013\n"
     ]
    },
    {
     "name": "stderr",
     "output_type": "stream",
     "text": [
      "Training: 100%|██████████| 2192/2192 [00:05<00:00, 411.44it/s]\n",
      "Validation: 100%|██████████| 274/274 [00:00<00:00, 839.06it/s]\n"
     ]
    },
    {
     "name": "stdout",
     "output_type": "stream",
     "text": [
      "Epoch 12/50, Training Loss: 0.0007, Validation Loss: 0.0011\n"
     ]
    },
    {
     "name": "stderr",
     "output_type": "stream",
     "text": [
      "Training: 100%|██████████| 2192/2192 [00:05<00:00, 415.89it/s]\n",
      "Validation: 100%|██████████| 274/274 [00:00<00:00, 884.16it/s]\n"
     ]
    },
    {
     "name": "stdout",
     "output_type": "stream",
     "text": [
      "Epoch 13/50, Training Loss: 0.0007, Validation Loss: 0.0012\n"
     ]
    },
    {
     "name": "stderr",
     "output_type": "stream",
     "text": [
      "Training: 100%|██████████| 2192/2192 [00:04<00:00, 453.57it/s]\n",
      "Validation: 100%|██████████| 274/274 [00:00<00:00, 862.33it/s]\n"
     ]
    },
    {
     "name": "stdout",
     "output_type": "stream",
     "text": [
      "Epoch 14/50, Training Loss: 0.0007, Validation Loss: 0.0011\n"
     ]
    },
    {
     "name": "stderr",
     "output_type": "stream",
     "text": [
      "Training: 100%|██████████| 2192/2192 [00:04<00:00, 453.72it/s]\n",
      "Validation: 100%|██████████| 274/274 [00:00<00:00, 913.89it/s]\n"
     ]
    },
    {
     "name": "stdout",
     "output_type": "stream",
     "text": [
      "Epoch 15/50, Training Loss: 0.0007, Validation Loss: 0.0013\n"
     ]
    },
    {
     "name": "stderr",
     "output_type": "stream",
     "text": [
      "Training: 100%|██████████| 2192/2192 [00:04<00:00, 452.68it/s]\n",
      "Validation: 100%|██████████| 274/274 [00:00<00:00, 922.33it/s]\n"
     ]
    },
    {
     "name": "stdout",
     "output_type": "stream",
     "text": [
      "Epoch 16/50, Training Loss: 0.0007, Validation Loss: 0.0011\n"
     ]
    },
    {
     "name": "stderr",
     "output_type": "stream",
     "text": [
      "Training: 100%|██████████| 2192/2192 [00:04<00:00, 455.54it/s]\n",
      "Validation: 100%|██████████| 274/274 [00:00<00:00, 906.74it/s]\n"
     ]
    },
    {
     "name": "stdout",
     "output_type": "stream",
     "text": [
      "Epoch 17/50, Training Loss: 0.0007, Validation Loss: 0.0010\n"
     ]
    },
    {
     "name": "stderr",
     "output_type": "stream",
     "text": [
      "Training: 100%|██████████| 2192/2192 [00:04<00:00, 451.68it/s]\n",
      "Validation: 100%|██████████| 274/274 [00:00<00:00, 913.92it/s]\n"
     ]
    },
    {
     "name": "stdout",
     "output_type": "stream",
     "text": [
      "Epoch 18/50, Training Loss: 0.0006, Validation Loss: 0.0011\n"
     ]
    },
    {
     "name": "stderr",
     "output_type": "stream",
     "text": [
      "Training: 100%|██████████| 2192/2192 [00:04<00:00, 455.33it/s]\n",
      "Validation: 100%|██████████| 274/274 [00:00<00:00, 886.31it/s]\n"
     ]
    },
    {
     "name": "stdout",
     "output_type": "stream",
     "text": [
      "Epoch 19/50, Training Loss: 0.0006, Validation Loss: 0.0010\n"
     ]
    },
    {
     "name": "stderr",
     "output_type": "stream",
     "text": [
      "Training: 100%|██████████| 2192/2192 [00:04<00:00, 448.72it/s]\n",
      "Validation: 100%|██████████| 274/274 [00:00<00:00, 889.36it/s]\n"
     ]
    },
    {
     "name": "stdout",
     "output_type": "stream",
     "text": [
      "Epoch 20/50, Training Loss: 0.0006, Validation Loss: 0.0010\n"
     ]
    },
    {
     "name": "stderr",
     "output_type": "stream",
     "text": [
      "Training: 100%|██████████| 2192/2192 [00:04<00:00, 449.78it/s]\n",
      "Validation: 100%|██████████| 274/274 [00:00<00:00, 902.92it/s]\n"
     ]
    },
    {
     "name": "stdout",
     "output_type": "stream",
     "text": [
      "Epoch 21/50, Training Loss: 0.0006, Validation Loss: 0.0009\n"
     ]
    },
    {
     "name": "stderr",
     "output_type": "stream",
     "text": [
      "Training: 100%|██████████| 2192/2192 [00:05<00:00, 437.20it/s]\n",
      "Validation: 100%|██████████| 274/274 [00:00<00:00, 896.09it/s]\n"
     ]
    },
    {
     "name": "stdout",
     "output_type": "stream",
     "text": [
      "Epoch 22/50, Training Loss: 0.0006, Validation Loss: 0.0009\n"
     ]
    },
    {
     "name": "stderr",
     "output_type": "stream",
     "text": [
      "Training: 100%|██████████| 2192/2192 [00:04<00:00, 448.80it/s]\n",
      "Validation: 100%|██████████| 274/274 [00:00<00:00, 898.90it/s]\n"
     ]
    },
    {
     "name": "stdout",
     "output_type": "stream",
     "text": [
      "Epoch 23/50, Training Loss: 0.0006, Validation Loss: 0.0010\n"
     ]
    },
    {
     "name": "stderr",
     "output_type": "stream",
     "text": [
      "Training: 100%|██████████| 2192/2192 [00:04<00:00, 442.19it/s]\n",
      "Validation: 100%|██████████| 274/274 [00:00<00:00, 900.76it/s]\n"
     ]
    },
    {
     "name": "stdout",
     "output_type": "stream",
     "text": [
      "Epoch 24/50, Training Loss: 0.0006, Validation Loss: 0.0010\n"
     ]
    },
    {
     "name": "stderr",
     "output_type": "stream",
     "text": [
      "Training: 100%|██████████| 2192/2192 [00:04<00:00, 445.17it/s]\n",
      "Validation: 100%|██████████| 274/274 [00:00<00:00, 870.37it/s]\n"
     ]
    },
    {
     "name": "stdout",
     "output_type": "stream",
     "text": [
      "Epoch 25/50, Training Loss: 0.0006, Validation Loss: 0.0010\n"
     ]
    },
    {
     "name": "stderr",
     "output_type": "stream",
     "text": [
      "Training: 100%|██████████| 2192/2192 [00:04<00:00, 451.97it/s]\n",
      "Validation: 100%|██████████| 274/274 [00:00<00:00, 895.26it/s]\n"
     ]
    },
    {
     "name": "stdout",
     "output_type": "stream",
     "text": [
      "Epoch 26/50, Training Loss: 0.0006, Validation Loss: 0.0009\n"
     ]
    },
    {
     "name": "stderr",
     "output_type": "stream",
     "text": [
      "Training: 100%|██████████| 2192/2192 [00:04<00:00, 449.17it/s]\n",
      "Validation: 100%|██████████| 274/274 [00:00<00:00, 878.07it/s]\n"
     ]
    },
    {
     "name": "stdout",
     "output_type": "stream",
     "text": [
      "Epoch 27/50, Training Loss: 0.0006, Validation Loss: 0.0010\n"
     ]
    },
    {
     "name": "stderr",
     "output_type": "stream",
     "text": [
      "Training: 100%|██████████| 2192/2192 [00:04<00:00, 452.81it/s]\n",
      "Validation: 100%|██████████| 274/274 [00:00<00:00, 905.20it/s]\n"
     ]
    },
    {
     "name": "stdout",
     "output_type": "stream",
     "text": [
      "Epoch 28/50, Training Loss: 0.0006, Validation Loss: 0.0009\n"
     ]
    },
    {
     "name": "stderr",
     "output_type": "stream",
     "text": [
      "Training: 100%|██████████| 2192/2192 [00:04<00:00, 450.81it/s]\n",
      "Validation: 100%|██████████| 274/274 [00:00<00:00, 913.87it/s]\n"
     ]
    },
    {
     "name": "stdout",
     "output_type": "stream",
     "text": [
      "Epoch 29/50, Training Loss: 0.0006, Validation Loss: 0.0009\n"
     ]
    },
    {
     "name": "stderr",
     "output_type": "stream",
     "text": [
      "Training: 100%|██████████| 2192/2192 [00:05<00:00, 433.49it/s]\n",
      "Validation: 100%|██████████| 274/274 [00:00<00:00, 906.09it/s]\n"
     ]
    },
    {
     "name": "stdout",
     "output_type": "stream",
     "text": [
      "Epoch 30/50, Training Loss: 0.0006, Validation Loss: 0.0008\n"
     ]
    },
    {
     "name": "stderr",
     "output_type": "stream",
     "text": [
      "Training: 100%|██████████| 2192/2192 [00:04<00:00, 444.01it/s]\n",
      "Validation: 100%|██████████| 274/274 [00:00<00:00, 913.00it/s]\n"
     ]
    },
    {
     "name": "stdout",
     "output_type": "stream",
     "text": [
      "Epoch 31/50, Training Loss: 0.0006, Validation Loss: 0.0008\n"
     ]
    },
    {
     "name": "stderr",
     "output_type": "stream",
     "text": [
      "Training: 100%|██████████| 2192/2192 [00:05<00:00, 433.59it/s]\n",
      "Validation: 100%|██████████| 274/274 [00:00<00:00, 912.87it/s]\n"
     ]
    },
    {
     "name": "stdout",
     "output_type": "stream",
     "text": [
      "Epoch 32/50, Training Loss: 0.0006, Validation Loss: 0.0008\n"
     ]
    },
    {
     "name": "stderr",
     "output_type": "stream",
     "text": [
      "Training: 100%|██████████| 2192/2192 [00:04<00:00, 449.95it/s]\n",
      "Validation: 100%|██████████| 274/274 [00:00<00:00, 856.47it/s]\n"
     ]
    },
    {
     "name": "stdout",
     "output_type": "stream",
     "text": [
      "Epoch 33/50, Training Loss: 0.0006, Validation Loss: 0.0007\n"
     ]
    },
    {
     "name": "stderr",
     "output_type": "stream",
     "text": [
      "Training: 100%|██████████| 2192/2192 [00:05<00:00, 437.21it/s]\n",
      "Validation: 100%|██████████| 274/274 [00:00<00:00, 882.09it/s]\n"
     ]
    },
    {
     "name": "stdout",
     "output_type": "stream",
     "text": [
      "Epoch 34/50, Training Loss: 0.0006, Validation Loss: 0.0007\n"
     ]
    },
    {
     "name": "stderr",
     "output_type": "stream",
     "text": [
      "Training: 100%|██████████| 2192/2192 [00:05<00:00, 412.60it/s]\n",
      "Validation: 100%|██████████| 274/274 [00:00<00:00, 906.12it/s]\n"
     ]
    },
    {
     "name": "stdout",
     "output_type": "stream",
     "text": [
      "Epoch 35/50, Training Loss: 0.0006, Validation Loss: 0.0007\n"
     ]
    },
    {
     "name": "stderr",
     "output_type": "stream",
     "text": [
      "Training: 100%|██████████| 2192/2192 [00:05<00:00, 401.32it/s]\n",
      "Validation: 100%|██████████| 274/274 [00:00<00:00, 854.24it/s]\n"
     ]
    },
    {
     "name": "stdout",
     "output_type": "stream",
     "text": [
      "Epoch 36/50, Training Loss: 0.0006, Validation Loss: 0.0007\n"
     ]
    },
    {
     "name": "stderr",
     "output_type": "stream",
     "text": [
      "Training: 100%|██████████| 2192/2192 [00:05<00:00, 413.66it/s]\n",
      "Validation: 100%|██████████| 274/274 [00:00<00:00, 831.88it/s]\n"
     ]
    },
    {
     "name": "stdout",
     "output_type": "stream",
     "text": [
      "Epoch 37/50, Training Loss: 0.0006, Validation Loss: 0.0007\n"
     ]
    },
    {
     "name": "stderr",
     "output_type": "stream",
     "text": [
      "Training: 100%|██████████| 2192/2192 [00:04<00:00, 440.44it/s]\n",
      "Validation: 100%|██████████| 274/274 [00:00<00:00, 897.49it/s]\n"
     ]
    },
    {
     "name": "stdout",
     "output_type": "stream",
     "text": [
      "Epoch 38/50, Training Loss: 0.0006, Validation Loss: 0.0007\n"
     ]
    },
    {
     "name": "stderr",
     "output_type": "stream",
     "text": [
      "Training: 100%|██████████| 2192/2192 [00:04<00:00, 439.66it/s]\n",
      "Validation: 100%|██████████| 274/274 [00:00<00:00, 792.53it/s]\n"
     ]
    },
    {
     "name": "stdout",
     "output_type": "stream",
     "text": [
      "Epoch 39/50, Training Loss: 0.0006, Validation Loss: 0.0007\n"
     ]
    },
    {
     "name": "stderr",
     "output_type": "stream",
     "text": [
      "Training: 100%|██████████| 2192/2192 [00:05<00:00, 436.96it/s]\n",
      "Validation: 100%|██████████| 274/274 [00:00<00:00, 868.90it/s]\n"
     ]
    },
    {
     "name": "stdout",
     "output_type": "stream",
     "text": [
      "Epoch 40/50, Training Loss: 0.0006, Validation Loss: 0.0007\n"
     ]
    },
    {
     "name": "stderr",
     "output_type": "stream",
     "text": [
      "Training: 100%|██████████| 2192/2192 [00:04<00:00, 438.67it/s]\n",
      "Validation: 100%|██████████| 274/274 [00:00<00:00, 881.93it/s]\n"
     ]
    },
    {
     "name": "stdout",
     "output_type": "stream",
     "text": [
      "Epoch 41/50, Training Loss: 0.0006, Validation Loss: 0.0007\n"
     ]
    },
    {
     "name": "stderr",
     "output_type": "stream",
     "text": [
      "Training: 100%|██████████| 2192/2192 [00:04<00:00, 440.24it/s]\n",
      "Validation: 100%|██████████| 274/274 [00:00<00:00, 881.17it/s]\n"
     ]
    },
    {
     "name": "stdout",
     "output_type": "stream",
     "text": [
      "Epoch 42/50, Training Loss: 0.0006, Validation Loss: 0.0007\n"
     ]
    },
    {
     "name": "stderr",
     "output_type": "stream",
     "text": [
      "Training: 100%|██████████| 2192/2192 [00:04<00:00, 439.98it/s]\n",
      "Validation: 100%|██████████| 274/274 [00:00<00:00, 887.52it/s]\n"
     ]
    },
    {
     "name": "stdout",
     "output_type": "stream",
     "text": [
      "Epoch 43/50, Training Loss: 0.0006, Validation Loss: 0.0007\n"
     ]
    },
    {
     "name": "stderr",
     "output_type": "stream",
     "text": [
      "Training: 100%|██████████| 2192/2192 [00:05<00:00, 388.00it/s]\n",
      "Validation: 100%|██████████| 274/274 [00:00<00:00, 729.32it/s]\n"
     ]
    },
    {
     "name": "stdout",
     "output_type": "stream",
     "text": [
      "Epoch 44/50, Training Loss: 0.0006, Validation Loss: 0.0007\n"
     ]
    },
    {
     "name": "stderr",
     "output_type": "stream",
     "text": [
      "Training: 100%|██████████| 2192/2192 [00:06<00:00, 332.65it/s]\n",
      "Validation: 100%|██████████| 274/274 [00:00<00:00, 685.21it/s]\n"
     ]
    },
    {
     "name": "stdout",
     "output_type": "stream",
     "text": [
      "Epoch 45/50, Training Loss: 0.0006, Validation Loss: 0.0007\n"
     ]
    },
    {
     "name": "stderr",
     "output_type": "stream",
     "text": [
      "Training: 100%|██████████| 2192/2192 [00:06<00:00, 344.77it/s]\n",
      "Validation: 100%|██████████| 274/274 [00:00<00:00, 698.86it/s]\n"
     ]
    },
    {
     "name": "stdout",
     "output_type": "stream",
     "text": [
      "Epoch 46/50, Training Loss: 0.0006, Validation Loss: 0.0007\n"
     ]
    },
    {
     "name": "stderr",
     "output_type": "stream",
     "text": [
      "Training: 100%|██████████| 2192/2192 [00:06<00:00, 341.41it/s]\n",
      "Validation: 100%|██████████| 274/274 [00:00<00:00, 759.15it/s]\n"
     ]
    },
    {
     "name": "stdout",
     "output_type": "stream",
     "text": [
      "Epoch 47/50, Training Loss: 0.0006, Validation Loss: 0.0007\n"
     ]
    },
    {
     "name": "stderr",
     "output_type": "stream",
     "text": [
      "Training: 100%|██████████| 2192/2192 [00:06<00:00, 347.95it/s]\n",
      "Validation: 100%|██████████| 274/274 [00:00<00:00, 727.50it/s]\n"
     ]
    },
    {
     "name": "stdout",
     "output_type": "stream",
     "text": [
      "Epoch 48/50, Training Loss: 0.0006, Validation Loss: 0.0007\n"
     ]
    },
    {
     "name": "stderr",
     "output_type": "stream",
     "text": [
      "Training: 100%|██████████| 2192/2192 [00:06<00:00, 341.95it/s]\n",
      "Validation: 100%|██████████| 274/274 [00:00<00:00, 748.22it/s]\n"
     ]
    },
    {
     "name": "stdout",
     "output_type": "stream",
     "text": [
      "Epoch 49/50, Training Loss: 0.0006, Validation Loss: 0.0007\n"
     ]
    },
    {
     "name": "stderr",
     "output_type": "stream",
     "text": [
      "Training: 100%|██████████| 2192/2192 [00:06<00:00, 345.75it/s]\n",
      "Validation: 100%|██████████| 274/274 [00:00<00:00, 728.13it/s]"
     ]
    },
    {
     "name": "stdout",
     "output_type": "stream",
     "text": [
      "Epoch 50/50, Training Loss: 0.0006, Validation Loss: 0.0007\n"
     ]
    },
    {
     "name": "stderr",
     "output_type": "stream",
     "text": [
      "\n"
     ]
    }
   ],
   "source": [
    "train_losses, val_losses = train_model(model, criterion, optimizer, train_loader, val_loader, epochs=EPOCHS)  "
   ]
  },
  {
   "cell_type": "code",
   "execution_count": 58,
   "metadata": {},
   "outputs": [
    {
     "data": {
      "image/png": "[encoded data removed]",
      "text/plain": [
       "<Figure size 720x432 with 1 Axes>"
      ]
     },
     "metadata": {
      "needs_background": "light"
     },
     "output_type": "display_data"
    }
   ],
   "source": [
    "plot_losses(train_losses, val_losses)"
   ]
  },
  {
   "cell_type": "code",
   "execution_count": 59,
   "metadata": {},
   "outputs": [
    {
     "name": "stdout",
     "output_type": "stream",
     "text": [
      "Output 1: MSE: 12349.2871, RMSE: 111.1273\n",
      "Output 2: MSE: 25231.8594, RMSE: 158.8454\n",
      "Output 3: MSE: 45837.8359, RMSE: 214.0977\n",
      "Output 4: MSE: 76476.3828, RMSE: 276.5436\n"
     ]
    }
   ],
   "source": [
    "mse_values, rmse_values, nmse_values, mape_values = test_model(model, test_loader, predict_scaler)"
   ]
  },
  {
   "cell_type": "code",
   "execution_count": 60,
   "metadata": {},
   "outputs": [],
   "source": [
    "y_true, y_pred = get_predictions(model, test_loader)\n",
    "y_true, y_pred = y_true.reshape(-1) , y_pred.reshape(-1)\n",
    "\n",
    "# apply reverse scaling\n",
    "y_true = predict_scaler.inverse_transform(y_true.reshape(-1,1))\n",
    "y_pred = predict_scaler.inverse_transform(y_pred.reshape(-1,1))\n"
   ]
  },
  {
   "cell_type": "code",
   "execution_count": 61,
   "metadata": {},
   "outputs": [
    {
     "data": {
      "image/png": "[encoded data removed]",
      "text/plain": [
       "<Figure size 864x432 with 1 Axes>"
      ]
     },
     "metadata": {
      "needs_background": "light"
     },
     "output_type": "display_data"
    }
   ],
   "source": [
    "plot_true_vs_predicted(y_true, y_pred)"
   ]
  }
 ],
 "metadata": {
  "kernelspec": {
   "display_name": "Python 3",
   "language": "python",
   "name": "python3"
  },
  "language_info": {
   "codemirror_mode": {
    "name": "ipython",
    "version": 3
   },
   "file_extension": ".py",
   "mimetype": "text/x-python",
   "name": "python",
   "nbconvert_exporter": "python",
   "pygments_lexer": "ipython3",
   "version": "3.7.9"
  }
 },
 "nbformat": 4,
 "nbformat_minor": 2
}
