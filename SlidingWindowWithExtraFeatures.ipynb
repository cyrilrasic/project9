{
 "cells": [
  {
   "cell_type": "code",
   "execution_count": 1,
   "id": "fb885443-eac6-4956-965b-91ebc4124e49",
   "metadata": {},
   "outputs": [],
   "source": [
    "import matplotlib.pyplot as plt\n",
    "import seaborn as sns\n",
    "import numpy as np\n",
    "import pandas as pd\n",
    "import scipy\n",
    "import sktime\n",
    "from datetime import datetime\n",
    "from sktime.forecasting.base import ForecastingHorizon\n",
    "from sktime.forecasting.model_selection import SlidingWindowSplitter\n",
    "from sktime.utils.plotting import plot_series\n",
    "import sklearn\n",
    "from sklearn.metrics import mean_absolute_percentage_error, mean_absolute_error, mean_squared_error, root_mean_squared_error\n",
    "from sklearn.ensemble import RandomForestRegressor\n",
    "from sklearn.model_selection import train_test_split"
   ]
  },
  {
   "cell_type": "code",
   "execution_count": 30,
   "id": "a39a83e6-0007-4cb6-abbd-b05ed12d1918",
   "metadata": {},
   "outputs": [],
   "source": [
    "excluded_columns = ['Total Load', 'Difference with previous load', 'Datetime', 'Resolution code', 'Total Load Persistence', \n",
    "                   'Most recent forecast', 'Most recent P10', 'Most recent P90', 'Day-ahead 6PM forecast',\n",
    "                    'Day-ahead 6PM P10', 'Day-ahead 6PM P90', 'Week-ahead forecast', 'Total Load Interpolated Persistence',\n",
    "                    'Difference with previous load interpolated']\n",
    "def get_windows(y, cv, shift):\n",
    "    train_windows = []\n",
    "    test_windows = []\n",
    "    for i, (train, test) in enumerate(cv.split(y[\"Total Load Interpolated\"])):\n",
    "        if not (i%shift):\n",
    "            train_windows.append(y[y.columns[~y.columns.isin(excluded_columns)]].loc[train].to_numpy().flatten())\n",
    "            test_windows.append(y.loc[test, [\"Total Load Interpolated\"]].to_numpy().flatten())\n",
    "    return train_windows, test_windows"
   ]
  },
  {
   "cell_type": "code",
   "execution_count": 31,
   "id": "33a2ed8f-7e1e-4e6a-abed-d7c022b6bf9b",
   "metadata": {},
   "outputs": [],
   "source": [
    "data = pd.read_csv(\"Processed_data.csv\")[int(-24*4*365*1.5):].reset_index()\n",
    "data = data.drop([data.columns[0], data.columns[1]], axis=1)"
   ]
  },
  {
   "cell_type": "code",
   "execution_count": 32,
   "id": "dd7e7055-7ddc-48bb-b574-8f6afebf5b90",
   "metadata": {},
   "outputs": [
    {
     "data": {
      "text/plain": [
       "Index(['Total Load Interpolated', 'Year', 'Month', 'Day', 'Hour', 'Minute',\n",
       "       'Season', 'Lockdown'],\n",
       "      dtype='object')"
      ]
     },
     "execution_count": 32,
     "metadata": {},
     "output_type": "execute_result"
    }
   ],
   "source": [
    "data.columns[~data.columns.isin(excluded_columns)]"
   ]
  },
  {
   "cell_type": "code",
   "execution_count": 33,
   "id": "0dfe8094-cb81-4361-82d5-cb671d195867",
   "metadata": {},
   "outputs": [],
   "source": [
    "window_length = 12\n",
    "horizon = 4\n",
    "fh = ForecastingHorizon(list(range(1, horizon+1)))\n",
    "cv = SlidingWindowSplitter(window_length=window_length, fh=fh)\n",
    "n_splits = cv.get_n_splits(data)"
   ]
  },
  {
   "cell_type": "code",
   "execution_count": 34,
   "id": "8f418ecd-c11d-4f69-b1af-dd1e0fe62408",
   "metadata": {},
   "outputs": [],
   "source": [
    "x, y = get_windows(data, cv, window_length)"
   ]
  },
  {
   "cell_type": "code",
   "execution_count": 35,
   "id": "bd2faf93-2eae-4421-9cfc-8a20cd08535b",
   "metadata": {},
   "outputs": [
    {
     "data": {
      "text/plain": [
       "(96,)"
      ]
     },
     "execution_count": 35,
     "metadata": {},
     "output_type": "execute_result"
    }
   ],
   "source": [
    "x[0].shape"
   ]
  },
  {
   "cell_type": "code",
   "execution_count": 36,
   "id": "147fe91a-0c01-445e-8cb5-b0b0ce8caf2c",
   "metadata": {},
   "outputs": [
    {
     "data": {
      "text/plain": [
       "array([10281.1 , 10283.35, 10316.97, 10106.46])"
      ]
     },
     "execution_count": 36,
     "metadata": {},
     "output_type": "execute_result"
    }
   ],
   "source": [
    "y[0]"
   ]
  },
  {
   "cell_type": "code",
   "execution_count": 37,
   "id": "dddf1bd2-a3c5-47d9-9d73-43a81ed20c1c",
   "metadata": {},
   "outputs": [],
   "source": [
    "X_train, X_test, Y_train, Y_test = train_test_split(x, y, test_size=0.2, shuffle=False)\n",
    "X_train, X_test, Y_train, Y_test = np.array(X_train), np.array(X_test), np.array(Y_train), np.array(Y_test)"
   ]
  },
  {
   "cell_type": "code",
   "execution_count": 38,
   "id": "ba99b01e-4edb-4602-aecf-6523bb25e4b9",
   "metadata": {},
   "outputs": [],
   "source": [
    "def err(Y_test, y_hat, horizon):\n",
    "    errors = pd.DataFrame()\n",
    "    errors[\"RMSE\"] = [root_mean_squared_error(Y_test[:, i], y_hat[:, i]) for i in range(horizon)]\n",
    "    errors[\"MAPE\"] = [mean_absolute_percentage_error(Y_test[:, i], y_hat[:, i]) for i in range(horizon)]\n",
    "    errors[\"MAE\"] = [mean_absolute_error(Y_test[:, i], y_hat[:, i]) for i in range(horizon)]\n",
    "    errors[\"MSE\"] = [mean_squared_error(Y_test[:, i], y_hat[:, i]) for i in range(horizon)]\n",
    "    return errors.T"
   ]
  },
  {
   "cell_type": "code",
   "execution_count": 39,
   "id": "c1afd21e-5b84-49d9-9518-41c342b8e85e",
   "metadata": {},
   "outputs": [
    {
     "data": {
      "text/html": [
       "<div>\n",
       "<style scoped>\n",
       "    .dataframe tbody tr th:only-of-type {\n",
       "        vertical-align: middle;\n",
       "    }\n",
       "\n",
       "    .dataframe tbody tr th {\n",
       "        vertical-align: top;\n",
       "    }\n",
       "\n",
       "    .dataframe thead th {\n",
       "        text-align: right;\n",
       "    }\n",
       "</style>\n",
       "<table border=\"1\" class=\"dataframe\">\n",
       "  <thead>\n",
       "    <tr style=\"text-align: right;\">\n",
       "      <th></th>\n",
       "      <th>0</th>\n",
       "      <th>1</th>\n",
       "      <th>2</th>\n",
       "      <th>3</th>\n",
       "    </tr>\n",
       "  </thead>\n",
       "  <tbody>\n",
       "    <tr>\n",
       "      <th>RMSE</th>\n",
       "      <td>69.004777</td>\n",
       "      <td>116.621411</td>\n",
       "      <td>166.681169</td>\n",
       "      <td>212.468180</td>\n",
       "    </tr>\n",
       "    <tr>\n",
       "      <th>MAPE</th>\n",
       "      <td>0.006466</td>\n",
       "      <td>0.011053</td>\n",
       "      <td>0.015525</td>\n",
       "      <td>0.019672</td>\n",
       "    </tr>\n",
       "    <tr>\n",
       "      <th>MAE</th>\n",
       "      <td>54.862614</td>\n",
       "      <td>93.387215</td>\n",
       "      <td>131.284057</td>\n",
       "      <td>166.378303</td>\n",
       "    </tr>\n",
       "    <tr>\n",
       "      <th>MSE</th>\n",
       "      <td>4761.659305</td>\n",
       "      <td>13600.553556</td>\n",
       "      <td>27782.612079</td>\n",
       "      <td>45142.727462</td>\n",
       "    </tr>\n",
       "  </tbody>\n",
       "</table>\n",
       "</div>"
      ],
      "text/plain": [
       "                0             1             2             3\n",
       "RMSE    69.004777    116.621411    166.681169    212.468180\n",
       "MAPE     0.006466      0.011053      0.015525      0.019672\n",
       "MAE     54.862614     93.387215    131.284057    166.378303\n",
       "MSE   4761.659305  13600.553556  27782.612079  45142.727462"
      ]
     },
     "execution_count": 39,
     "metadata": {},
     "output_type": "execute_result"
    }
   ],
   "source": [
    "from sklearn.linear_model import LinearRegression\n",
    "tree = LinearRegression(n_jobs=-1)\n",
    "tree = tree.fit(X_train, Y_train)\n",
    "y_hat = tree.predict(X_test)\n",
    "err(Y_test, y_hat, horizon)"
   ]
  },
  {
   "cell_type": "code",
   "execution_count": 40,
   "id": "69b8334c-dc03-4f96-8095-1d2a6cae2968",
   "metadata": {},
   "outputs": [
    {
     "data": {
      "text/html": [
       "<div>\n",
       "<style scoped>\n",
       "    .dataframe tbody tr th:only-of-type {\n",
       "        vertical-align: middle;\n",
       "    }\n",
       "\n",
       "    .dataframe tbody tr th {\n",
       "        vertical-align: top;\n",
       "    }\n",
       "\n",
       "    .dataframe thead th {\n",
       "        text-align: right;\n",
       "    }\n",
       "</style>\n",
       "<table border=\"1\" class=\"dataframe\">\n",
       "  <thead>\n",
       "    <tr style=\"text-align: right;\">\n",
       "      <th></th>\n",
       "      <th>0</th>\n",
       "      <th>1</th>\n",
       "      <th>2</th>\n",
       "      <th>3</th>\n",
       "    </tr>\n",
       "  </thead>\n",
       "  <tbody>\n",
       "    <tr>\n",
       "      <th>RMSE</th>\n",
       "      <td>68.962177</td>\n",
       "      <td>115.427064</td>\n",
       "      <td>162.833779</td>\n",
       "      <td>207.887748</td>\n",
       "    </tr>\n",
       "    <tr>\n",
       "      <th>MAPE</th>\n",
       "      <td>0.006463</td>\n",
       "      <td>0.010947</td>\n",
       "      <td>0.015201</td>\n",
       "      <td>0.019324</td>\n",
       "    </tr>\n",
       "    <tr>\n",
       "      <th>MAE</th>\n",
       "      <td>54.853652</td>\n",
       "      <td>92.609016</td>\n",
       "      <td>128.780128</td>\n",
       "      <td>163.808427</td>\n",
       "    </tr>\n",
       "    <tr>\n",
       "      <th>MSE</th>\n",
       "      <td>4755.781820</td>\n",
       "      <td>13323.407016</td>\n",
       "      <td>26514.839693</td>\n",
       "      <td>43217.315672</td>\n",
       "    </tr>\n",
       "  </tbody>\n",
       "</table>\n",
       "</div>"
      ],
      "text/plain": [
       "                0             1             2             3\n",
       "RMSE    68.962177    115.427064    162.833779    207.887748\n",
       "MAPE     0.006463      0.010947      0.015201      0.019324\n",
       "MAE     54.853652     92.609016    128.780128    163.808427\n",
       "MSE   4755.781820  13323.407016  26514.839693  43217.315672"
      ]
     },
     "execution_count": 40,
     "metadata": {},
     "output_type": "execute_result"
    }
   ],
   "source": [
    "from sklearn.linear_model import Ridge\n",
    "tree = Ridge(alpha=10000)\n",
    "tree = tree.fit(X_train, Y_train)\n",
    "y_hat = tree.predict(X_test)\n",
    "err(Y_test, y_hat, horizon)"
   ]
  },
  {
   "cell_type": "code",
   "execution_count": 41,
   "id": "7bf07a69-204c-4259-b896-20c5d6dec46c",
   "metadata": {},
   "outputs": [
    {
     "data": {
      "text/html": [
       "<div>\n",
       "<style scoped>\n",
       "    .dataframe tbody tr th:only-of-type {\n",
       "        vertical-align: middle;\n",
       "    }\n",
       "\n",
       "    .dataframe tbody tr th {\n",
       "        vertical-align: top;\n",
       "    }\n",
       "\n",
       "    .dataframe thead th {\n",
       "        text-align: right;\n",
       "    }\n",
       "</style>\n",
       "<table border=\"1\" class=\"dataframe\">\n",
       "  <thead>\n",
       "    <tr style=\"text-align: right;\">\n",
       "      <th></th>\n",
       "      <th>0</th>\n",
       "      <th>1</th>\n",
       "      <th>2</th>\n",
       "      <th>3</th>\n",
       "    </tr>\n",
       "  </thead>\n",
       "  <tbody>\n",
       "    <tr>\n",
       "      <th>RMSE</th>\n",
       "      <td>73.992294</td>\n",
       "      <td>112.220308</td>\n",
       "      <td>146.610078</td>\n",
       "      <td>176.878433</td>\n",
       "    </tr>\n",
       "    <tr>\n",
       "      <th>MAPE</th>\n",
       "      <td>0.006888</td>\n",
       "      <td>0.010544</td>\n",
       "      <td>0.013726</td>\n",
       "      <td>0.016505</td>\n",
       "    </tr>\n",
       "    <tr>\n",
       "      <th>MAE</th>\n",
       "      <td>58.369891</td>\n",
       "      <td>88.927378</td>\n",
       "      <td>116.160038</td>\n",
       "      <td>140.199541</td>\n",
       "    </tr>\n",
       "    <tr>\n",
       "      <th>MSE</th>\n",
       "      <td>5474.859581</td>\n",
       "      <td>12593.397554</td>\n",
       "      <td>21494.515089</td>\n",
       "      <td>31285.979986</td>\n",
       "    </tr>\n",
       "  </tbody>\n",
       "</table>\n",
       "</div>"
      ],
      "text/plain": [
       "                0             1             2             3\n",
       "RMSE    73.992294    112.220308    146.610078    176.878433\n",
       "MAPE     0.006888      0.010544      0.013726      0.016505\n",
       "MAE     58.369891     88.927378    116.160038    140.199541\n",
       "MSE   5474.859581  12593.397554  21494.515089  31285.979986"
      ]
     },
     "execution_count": 41,
     "metadata": {},
     "output_type": "execute_result"
    }
   ],
   "source": [
    "tree = RandomForestRegressor(n_jobs=-1)\n",
    "tree = tree.fit(X_train, Y_train)\n",
    "y_hat = tree.predict(X_test)\n",
    "err(Y_test, y_hat, horizon)"
   ]
  },
  {
   "cell_type": "markdown",
   "id": "107f7842-b2de-4b5f-b111-78a9137b0fab",
   "metadata": {},
   "source": [
    "from sklearn.linear_model import MultiTaskLasso\n",
    "tree = MultiTaskLasso(max_iter=10000)\n",
    "tree = tree.fit(X_train, Y_train)\n",
    "y_hat = tree.predict(X_test)\n",
    "err(Y_test, y_hat, horizon)"
   ]
  },
  {
   "cell_type": "markdown",
   "id": "b9fd0c1c-9294-4d34-b514-58c47331a836",
   "metadata": {},
   "source": [
    "Take the vector of the errors, compute the mean and autocorellation (-> 0 and higher possible)"
   ]
  },
  {
   "cell_type": "markdown",
   "id": "6e245a6b-b66c-4332-bea0-f2e6837ece83",
   "metadata": {},
   "source": [
    "from sklearn.neural_network import MLPRegressor\n",
    "tree = MLPRegressor(max_iter=10000)\n",
    "tree = tree.fit(X_train, Y_train)\n",
    "y_hat = tree.predict(X_test)\n",
    "err(Y_test, y_hat, horizon)"
   ]
  },
  {
   "cell_type": "code",
   "execution_count": null,
   "id": "1021724e-a984-4369-a280-b0aba44d0eca",
   "metadata": {},
   "outputs": [],
   "source": []
  }
 ],
 "metadata": {
  "kernelspec": {
   "display_name": "Python 3 (ipykernel)",
   "language": "python",
   "name": "python3"
  },
  "language_info": {
   "codemirror_mode": {
    "name": "ipython",
    "version": 3
   },
   "file_extension": ".py",
   "mimetype": "text/x-python",
   "name": "python",
   "nbconvert_exporter": "python",
   "pygments_lexer": "ipython3",
   "version": "3.11.6"
  }
 },
 "nbformat": 4,
 "nbformat_minor": 5
}
